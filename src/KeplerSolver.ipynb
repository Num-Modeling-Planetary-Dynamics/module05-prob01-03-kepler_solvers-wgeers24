{
 "cells": [
  {
   "cell_type": "code",
   "execution_count": null,
   "id": "d89ce426-e849-4fe0-bbb9-6ef82ccf3732",
   "metadata": {},
   "outputs": [],
   "source": [
    "Hw5_P1"
   ]
  }
 ],
 "metadata": {
  "kernelspec": {
   "display_name": "Python (My eaps591f22 Kernel)",
   "language": "python",
   "name": "eaps591f22"
  },
  "language_info": {
   "codemirror_mode": {
    "name": "ipython",
    "version": 3
   },
   "file_extension": ".py",
   "mimetype": "text/x-python",
   "name": "python",
   "nbconvert_exporter": "python",
   "pygments_lexer": "ipython3",
   "version": "3.8.5"
  }
 },
 "nbformat": 4,
 "nbformat_minor": 5
}
